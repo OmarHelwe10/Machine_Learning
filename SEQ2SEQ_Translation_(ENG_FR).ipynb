{
  "cells": [
    {
      "cell_type": "markdown",
      "metadata": {
        "id": "4_j1ZzS3v6N3"
      },
      "source": [
        "We start by importing numpy and pandas and then we can add the rest"
      ]
    },
    {
      "cell_type": "code",
      "execution_count": null,
      "metadata": {
        "id": "n0IARXAX1e1m"
      },
      "outputs": [],
      "source": [
        "import pandas as pd\n",
        "import numpy as np"
      ]
    },
    {
      "cell_type": "markdown",
      "metadata": {
        "id": "BaPr0N8cwGAv"
      },
      "source": [
        "We read the english sentences in a dataframe named \"english\", and the french sentences in a dataframe named \"french\""
      ]
    },
    {
      "cell_type": "code",
      "execution_count": null,
      "metadata": {
        "colab": {
          "base_uri": "https://localhost:8080/",
          "height": 206
        },
        "id": "kFj8gkP01lGT",
        "outputId": "462ba42d-0a4b-452d-d134-1b2f8dc5a69d"
      },
      "outputs": [
        {
          "output_type": "execute_result",
          "data": {
            "text/plain": [
              "  new jersey is sometimes quiet during autumn , and it is snowy in april .\n",
              "0  the united states is usually chilly during jul...                      \n",
              "1  california is usually quiet during march , and...                      \n",
              "2  the united states is sometimes mild during jun...                      \n",
              "3  your least liked fruit is the grape , but my l...                      \n",
              "4  his favorite fruit is the orange , but my favo...                      "
            ],
            "text/html": [
              "\n",
              "  <div id=\"df-8089835d-2e31-4fa6-9cad-f8545e3d14ad\" class=\"colab-df-container\">\n",
              "    <div>\n",
              "<style scoped>\n",
              "    .dataframe tbody tr th:only-of-type {\n",
              "        vertical-align: middle;\n",
              "    }\n",
              "\n",
              "    .dataframe tbody tr th {\n",
              "        vertical-align: top;\n",
              "    }\n",
              "\n",
              "    .dataframe thead th {\n",
              "        text-align: right;\n",
              "    }\n",
              "</style>\n",
              "<table border=\"1\" class=\"dataframe\">\n",
              "  <thead>\n",
              "    <tr style=\"text-align: right;\">\n",
              "      <th></th>\n",
              "      <th>new jersey is sometimes quiet during autumn , and it is snowy in april .</th>\n",
              "    </tr>\n",
              "  </thead>\n",
              "  <tbody>\n",
              "    <tr>\n",
              "      <th>0</th>\n",
              "      <td>the united states is usually chilly during jul...</td>\n",
              "    </tr>\n",
              "    <tr>\n",
              "      <th>1</th>\n",
              "      <td>california is usually quiet during march , and...</td>\n",
              "    </tr>\n",
              "    <tr>\n",
              "      <th>2</th>\n",
              "      <td>the united states is sometimes mild during jun...</td>\n",
              "    </tr>\n",
              "    <tr>\n",
              "      <th>3</th>\n",
              "      <td>your least liked fruit is the grape , but my l...</td>\n",
              "    </tr>\n",
              "    <tr>\n",
              "      <th>4</th>\n",
              "      <td>his favorite fruit is the orange , but my favo...</td>\n",
              "    </tr>\n",
              "  </tbody>\n",
              "</table>\n",
              "</div>\n",
              "    <div class=\"colab-df-buttons\">\n",
              "\n",
              "  <div class=\"colab-df-container\">\n",
              "    <button class=\"colab-df-convert\" onclick=\"convertToInteractive('df-8089835d-2e31-4fa6-9cad-f8545e3d14ad')\"\n",
              "            title=\"Convert this dataframe to an interactive table.\"\n",
              "            style=\"display:none;\">\n",
              "\n",
              "  <svg xmlns=\"http://www.w3.org/2000/svg\" height=\"24px\" viewBox=\"0 -960 960 960\">\n",
              "    <path d=\"M120-120v-720h720v720H120Zm60-500h600v-160H180v160Zm220 220h160v-160H400v160Zm0 220h160v-160H400v160ZM180-400h160v-160H180v160Zm440 0h160v-160H620v160ZM180-180h160v-160H180v160Zm440 0h160v-160H620v160Z\"/>\n",
              "  </svg>\n",
              "    </button>\n",
              "\n",
              "  <style>\n",
              "    .colab-df-container {\n",
              "      display:flex;\n",
              "      gap: 12px;\n",
              "    }\n",
              "\n",
              "    .colab-df-convert {\n",
              "      background-color: #E8F0FE;\n",
              "      border: none;\n",
              "      border-radius: 50%;\n",
              "      cursor: pointer;\n",
              "      display: none;\n",
              "      fill: #1967D2;\n",
              "      height: 32px;\n",
              "      padding: 0 0 0 0;\n",
              "      width: 32px;\n",
              "    }\n",
              "\n",
              "    .colab-df-convert:hover {\n",
              "      background-color: #E2EBFA;\n",
              "      box-shadow: 0px 1px 2px rgba(60, 64, 67, 0.3), 0px 1px 3px 1px rgba(60, 64, 67, 0.15);\n",
              "      fill: #174EA6;\n",
              "    }\n",
              "\n",
              "    .colab-df-buttons div {\n",
              "      margin-bottom: 4px;\n",
              "    }\n",
              "\n",
              "    [theme=dark] .colab-df-convert {\n",
              "      background-color: #3B4455;\n",
              "      fill: #D2E3FC;\n",
              "    }\n",
              "\n",
              "    [theme=dark] .colab-df-convert:hover {\n",
              "      background-color: #434B5C;\n",
              "      box-shadow: 0px 1px 3px 1px rgba(0, 0, 0, 0.15);\n",
              "      filter: drop-shadow(0px 1px 2px rgba(0, 0, 0, 0.3));\n",
              "      fill: #FFFFFF;\n",
              "    }\n",
              "  </style>\n",
              "\n",
              "    <script>\n",
              "      const buttonEl =\n",
              "        document.querySelector('#df-8089835d-2e31-4fa6-9cad-f8545e3d14ad button.colab-df-convert');\n",
              "      buttonEl.style.display =\n",
              "        google.colab.kernel.accessAllowed ? 'block' : 'none';\n",
              "\n",
              "      async function convertToInteractive(key) {\n",
              "        const element = document.querySelector('#df-8089835d-2e31-4fa6-9cad-f8545e3d14ad');\n",
              "        const dataTable =\n",
              "          await google.colab.kernel.invokeFunction('convertToInteractive',\n",
              "                                                    [key], {});\n",
              "        if (!dataTable) return;\n",
              "\n",
              "        const docLinkHtml = 'Like what you see? Visit the ' +\n",
              "          '<a target=\"_blank\" href=https://colab.research.google.com/notebooks/data_table.ipynb>data table notebook</a>'\n",
              "          + ' to learn more about interactive tables.';\n",
              "        element.innerHTML = '';\n",
              "        dataTable['output_type'] = 'display_data';\n",
              "        await google.colab.output.renderOutput(dataTable, element);\n",
              "        const docLink = document.createElement('div');\n",
              "        docLink.innerHTML = docLinkHtml;\n",
              "        element.appendChild(docLink);\n",
              "      }\n",
              "    </script>\n",
              "  </div>\n",
              "\n",
              "\n",
              "<div id=\"df-d49e86cb-2047-4fcf-baa6-4f75594fe352\">\n",
              "  <button class=\"colab-df-quickchart\" onclick=\"quickchart('df-d49e86cb-2047-4fcf-baa6-4f75594fe352')\"\n",
              "            title=\"Suggest charts.\"\n",
              "            style=\"display:none;\">\n",
              "\n",
              "<svg xmlns=\"http://www.w3.org/2000/svg\" height=\"24px\"viewBox=\"0 0 24 24\"\n",
              "     width=\"24px\">\n",
              "    <g>\n",
              "        <path d=\"M19 3H5c-1.1 0-2 .9-2 2v14c0 1.1.9 2 2 2h14c1.1 0 2-.9 2-2V5c0-1.1-.9-2-2-2zM9 17H7v-7h2v7zm4 0h-2V7h2v10zm4 0h-2v-4h2v4z\"/>\n",
              "    </g>\n",
              "</svg>\n",
              "  </button>\n",
              "\n",
              "<style>\n",
              "  .colab-df-quickchart {\n",
              "      --bg-color: #E8F0FE;\n",
              "      --fill-color: #1967D2;\n",
              "      --hover-bg-color: #E2EBFA;\n",
              "      --hover-fill-color: #174EA6;\n",
              "      --disabled-fill-color: #AAA;\n",
              "      --disabled-bg-color: #DDD;\n",
              "  }\n",
              "\n",
              "  [theme=dark] .colab-df-quickchart {\n",
              "      --bg-color: #3B4455;\n",
              "      --fill-color: #D2E3FC;\n",
              "      --hover-bg-color: #434B5C;\n",
              "      --hover-fill-color: #FFFFFF;\n",
              "      --disabled-bg-color: #3B4455;\n",
              "      --disabled-fill-color: #666;\n",
              "  }\n",
              "\n",
              "  .colab-df-quickchart {\n",
              "    background-color: var(--bg-color);\n",
              "    border: none;\n",
              "    border-radius: 50%;\n",
              "    cursor: pointer;\n",
              "    display: none;\n",
              "    fill: var(--fill-color);\n",
              "    height: 32px;\n",
              "    padding: 0;\n",
              "    width: 32px;\n",
              "  }\n",
              "\n",
              "  .colab-df-quickchart:hover {\n",
              "    background-color: var(--hover-bg-color);\n",
              "    box-shadow: 0 1px 2px rgba(60, 64, 67, 0.3), 0 1px 3px 1px rgba(60, 64, 67, 0.15);\n",
              "    fill: var(--button-hover-fill-color);\n",
              "  }\n",
              "\n",
              "  .colab-df-quickchart-complete:disabled,\n",
              "  .colab-df-quickchart-complete:disabled:hover {\n",
              "    background-color: var(--disabled-bg-color);\n",
              "    fill: var(--disabled-fill-color);\n",
              "    box-shadow: none;\n",
              "  }\n",
              "\n",
              "  .colab-df-spinner {\n",
              "    border: 2px solid var(--fill-color);\n",
              "    border-color: transparent;\n",
              "    border-bottom-color: var(--fill-color);\n",
              "    animation:\n",
              "      spin 1s steps(1) infinite;\n",
              "  }\n",
              "\n",
              "  @keyframes spin {\n",
              "    0% {\n",
              "      border-color: transparent;\n",
              "      border-bottom-color: var(--fill-color);\n",
              "      border-left-color: var(--fill-color);\n",
              "    }\n",
              "    20% {\n",
              "      border-color: transparent;\n",
              "      border-left-color: var(--fill-color);\n",
              "      border-top-color: var(--fill-color);\n",
              "    }\n",
              "    30% {\n",
              "      border-color: transparent;\n",
              "      border-left-color: var(--fill-color);\n",
              "      border-top-color: var(--fill-color);\n",
              "      border-right-color: var(--fill-color);\n",
              "    }\n",
              "    40% {\n",
              "      border-color: transparent;\n",
              "      border-right-color: var(--fill-color);\n",
              "      border-top-color: var(--fill-color);\n",
              "    }\n",
              "    60% {\n",
              "      border-color: transparent;\n",
              "      border-right-color: var(--fill-color);\n",
              "    }\n",
              "    80% {\n",
              "      border-color: transparent;\n",
              "      border-right-color: var(--fill-color);\n",
              "      border-bottom-color: var(--fill-color);\n",
              "    }\n",
              "    90% {\n",
              "      border-color: transparent;\n",
              "      border-bottom-color: var(--fill-color);\n",
              "    }\n",
              "  }\n",
              "</style>\n",
              "\n",
              "  <script>\n",
              "    async function quickchart(key) {\n",
              "      const quickchartButtonEl =\n",
              "        document.querySelector('#' + key + ' button');\n",
              "      quickchartButtonEl.disabled = true;  // To prevent multiple clicks.\n",
              "      quickchartButtonEl.classList.add('colab-df-spinner');\n",
              "      try {\n",
              "        const charts = await google.colab.kernel.invokeFunction(\n",
              "            'suggestCharts', [key], {});\n",
              "      } catch (error) {\n",
              "        console.error('Error during call to suggestCharts:', error);\n",
              "      }\n",
              "      quickchartButtonEl.classList.remove('colab-df-spinner');\n",
              "      quickchartButtonEl.classList.add('colab-df-quickchart-complete');\n",
              "    }\n",
              "    (() => {\n",
              "      let quickchartButtonEl =\n",
              "        document.querySelector('#df-d49e86cb-2047-4fcf-baa6-4f75594fe352 button');\n",
              "      quickchartButtonEl.style.display =\n",
              "        google.colab.kernel.accessAllowed ? 'block' : 'none';\n",
              "    })();\n",
              "  </script>\n",
              "</div>\n",
              "    </div>\n",
              "  </div>\n"
            ]
          },
          "metadata": {},
          "execution_count": 3
        }
      ],
      "source": [
        "#Assuming en is the name of your csv file (English)\n",
        "english=pd.read_csv('en.csv')\n",
        "english.head()"
      ]
    },
    {
      "cell_type": "code",
      "execution_count": null,
      "metadata": {
        "colab": {
          "base_uri": "https://localhost:8080/",
          "height": 206
        },
        "id": "P4A7ZKt32A7s",
        "outputId": "0a077659-5cf2-45c6-d7c6-8afbd79f672e"
      },
      "outputs": [
        {
          "output_type": "execute_result",
          "data": {
            "text/plain": [
              "  new jersey est parfois calme pendant l' automne , et il est neigeux en avril .\n",
              "0  les états-unis est généralement froid en juill...                            \n",
              "1  california est généralement calme en mars , et...                            \n",
              "2  les états-unis est parfois légère en juin , et...                            \n",
              "3  votre moins aimé fruit est le raisin , mais mo...                            \n",
              "4  son fruit préféré est l'orange , mais mon préf...                            "
            ],
            "text/html": [
              "\n",
              "  <div id=\"df-2fed5632-374f-4aca-9295-f411960634dd\" class=\"colab-df-container\">\n",
              "    <div>\n",
              "<style scoped>\n",
              "    .dataframe tbody tr th:only-of-type {\n",
              "        vertical-align: middle;\n",
              "    }\n",
              "\n",
              "    .dataframe tbody tr th {\n",
              "        vertical-align: top;\n",
              "    }\n",
              "\n",
              "    .dataframe thead th {\n",
              "        text-align: right;\n",
              "    }\n",
              "</style>\n",
              "<table border=\"1\" class=\"dataframe\">\n",
              "  <thead>\n",
              "    <tr style=\"text-align: right;\">\n",
              "      <th></th>\n",
              "      <th>new jersey est parfois calme pendant l' automne , et il est neigeux en avril .</th>\n",
              "    </tr>\n",
              "  </thead>\n",
              "  <tbody>\n",
              "    <tr>\n",
              "      <th>0</th>\n",
              "      <td>les états-unis est généralement froid en juill...</td>\n",
              "    </tr>\n",
              "    <tr>\n",
              "      <th>1</th>\n",
              "      <td>california est généralement calme en mars , et...</td>\n",
              "    </tr>\n",
              "    <tr>\n",
              "      <th>2</th>\n",
              "      <td>les états-unis est parfois légère en juin , et...</td>\n",
              "    </tr>\n",
              "    <tr>\n",
              "      <th>3</th>\n",
              "      <td>votre moins aimé fruit est le raisin , mais mo...</td>\n",
              "    </tr>\n",
              "    <tr>\n",
              "      <th>4</th>\n",
              "      <td>son fruit préféré est l'orange , mais mon préf...</td>\n",
              "    </tr>\n",
              "  </tbody>\n",
              "</table>\n",
              "</div>\n",
              "    <div class=\"colab-df-buttons\">\n",
              "\n",
              "  <div class=\"colab-df-container\">\n",
              "    <button class=\"colab-df-convert\" onclick=\"convertToInteractive('df-2fed5632-374f-4aca-9295-f411960634dd')\"\n",
              "            title=\"Convert this dataframe to an interactive table.\"\n",
              "            style=\"display:none;\">\n",
              "\n",
              "  <svg xmlns=\"http://www.w3.org/2000/svg\" height=\"24px\" viewBox=\"0 -960 960 960\">\n",
              "    <path d=\"M120-120v-720h720v720H120Zm60-500h600v-160H180v160Zm220 220h160v-160H400v160Zm0 220h160v-160H400v160ZM180-400h160v-160H180v160Zm440 0h160v-160H620v160ZM180-180h160v-160H180v160Zm440 0h160v-160H620v160Z\"/>\n",
              "  </svg>\n",
              "    </button>\n",
              "\n",
              "  <style>\n",
              "    .colab-df-container {\n",
              "      display:flex;\n",
              "      gap: 12px;\n",
              "    }\n",
              "\n",
              "    .colab-df-convert {\n",
              "      background-color: #E8F0FE;\n",
              "      border: none;\n",
              "      border-radius: 50%;\n",
              "      cursor: pointer;\n",
              "      display: none;\n",
              "      fill: #1967D2;\n",
              "      height: 32px;\n",
              "      padding: 0 0 0 0;\n",
              "      width: 32px;\n",
              "    }\n",
              "\n",
              "    .colab-df-convert:hover {\n",
              "      background-color: #E2EBFA;\n",
              "      box-shadow: 0px 1px 2px rgba(60, 64, 67, 0.3), 0px 1px 3px 1px rgba(60, 64, 67, 0.15);\n",
              "      fill: #174EA6;\n",
              "    }\n",
              "\n",
              "    .colab-df-buttons div {\n",
              "      margin-bottom: 4px;\n",
              "    }\n",
              "\n",
              "    [theme=dark] .colab-df-convert {\n",
              "      background-color: #3B4455;\n",
              "      fill: #D2E3FC;\n",
              "    }\n",
              "\n",
              "    [theme=dark] .colab-df-convert:hover {\n",
              "      background-color: #434B5C;\n",
              "      box-shadow: 0px 1px 3px 1px rgba(0, 0, 0, 0.15);\n",
              "      filter: drop-shadow(0px 1px 2px rgba(0, 0, 0, 0.3));\n",
              "      fill: #FFFFFF;\n",
              "    }\n",
              "  </style>\n",
              "\n",
              "    <script>\n",
              "      const buttonEl =\n",
              "        document.querySelector('#df-2fed5632-374f-4aca-9295-f411960634dd button.colab-df-convert');\n",
              "      buttonEl.style.display =\n",
              "        google.colab.kernel.accessAllowed ? 'block' : 'none';\n",
              "\n",
              "      async function convertToInteractive(key) {\n",
              "        const element = document.querySelector('#df-2fed5632-374f-4aca-9295-f411960634dd');\n",
              "        const dataTable =\n",
              "          await google.colab.kernel.invokeFunction('convertToInteractive',\n",
              "                                                    [key], {});\n",
              "        if (!dataTable) return;\n",
              "\n",
              "        const docLinkHtml = 'Like what you see? Visit the ' +\n",
              "          '<a target=\"_blank\" href=https://colab.research.google.com/notebooks/data_table.ipynb>data table notebook</a>'\n",
              "          + ' to learn more about interactive tables.';\n",
              "        element.innerHTML = '';\n",
              "        dataTable['output_type'] = 'display_data';\n",
              "        await google.colab.output.renderOutput(dataTable, element);\n",
              "        const docLink = document.createElement('div');\n",
              "        docLink.innerHTML = docLinkHtml;\n",
              "        element.appendChild(docLink);\n",
              "      }\n",
              "    </script>\n",
              "  </div>\n",
              "\n",
              "\n",
              "<div id=\"df-f036e5c7-dc29-4ad4-a7c7-06b820336008\">\n",
              "  <button class=\"colab-df-quickchart\" onclick=\"quickchart('df-f036e5c7-dc29-4ad4-a7c7-06b820336008')\"\n",
              "            title=\"Suggest charts.\"\n",
              "            style=\"display:none;\">\n",
              "\n",
              "<svg xmlns=\"http://www.w3.org/2000/svg\" height=\"24px\"viewBox=\"0 0 24 24\"\n",
              "     width=\"24px\">\n",
              "    <g>\n",
              "        <path d=\"M19 3H5c-1.1 0-2 .9-2 2v14c0 1.1.9 2 2 2h14c1.1 0 2-.9 2-2V5c0-1.1-.9-2-2-2zM9 17H7v-7h2v7zm4 0h-2V7h2v10zm4 0h-2v-4h2v4z\"/>\n",
              "    </g>\n",
              "</svg>\n",
              "  </button>\n",
              "\n",
              "<style>\n",
              "  .colab-df-quickchart {\n",
              "      --bg-color: #E8F0FE;\n",
              "      --fill-color: #1967D2;\n",
              "      --hover-bg-color: #E2EBFA;\n",
              "      --hover-fill-color: #174EA6;\n",
              "      --disabled-fill-color: #AAA;\n",
              "      --disabled-bg-color: #DDD;\n",
              "  }\n",
              "\n",
              "  [theme=dark] .colab-df-quickchart {\n",
              "      --bg-color: #3B4455;\n",
              "      --fill-color: #D2E3FC;\n",
              "      --hover-bg-color: #434B5C;\n",
              "      --hover-fill-color: #FFFFFF;\n",
              "      --disabled-bg-color: #3B4455;\n",
              "      --disabled-fill-color: #666;\n",
              "  }\n",
              "\n",
              "  .colab-df-quickchart {\n",
              "    background-color: var(--bg-color);\n",
              "    border: none;\n",
              "    border-radius: 50%;\n",
              "    cursor: pointer;\n",
              "    display: none;\n",
              "    fill: var(--fill-color);\n",
              "    height: 32px;\n",
              "    padding: 0;\n",
              "    width: 32px;\n",
              "  }\n",
              "\n",
              "  .colab-df-quickchart:hover {\n",
              "    background-color: var(--hover-bg-color);\n",
              "    box-shadow: 0 1px 2px rgba(60, 64, 67, 0.3), 0 1px 3px 1px rgba(60, 64, 67, 0.15);\n",
              "    fill: var(--button-hover-fill-color);\n",
              "  }\n",
              "\n",
              "  .colab-df-quickchart-complete:disabled,\n",
              "  .colab-df-quickchart-complete:disabled:hover {\n",
              "    background-color: var(--disabled-bg-color);\n",
              "    fill: var(--disabled-fill-color);\n",
              "    box-shadow: none;\n",
              "  }\n",
              "\n",
              "  .colab-df-spinner {\n",
              "    border: 2px solid var(--fill-color);\n",
              "    border-color: transparent;\n",
              "    border-bottom-color: var(--fill-color);\n",
              "    animation:\n",
              "      spin 1s steps(1) infinite;\n",
              "  }\n",
              "\n",
              "  @keyframes spin {\n",
              "    0% {\n",
              "      border-color: transparent;\n",
              "      border-bottom-color: var(--fill-color);\n",
              "      border-left-color: var(--fill-color);\n",
              "    }\n",
              "    20% {\n",
              "      border-color: transparent;\n",
              "      border-left-color: var(--fill-color);\n",
              "      border-top-color: var(--fill-color);\n",
              "    }\n",
              "    30% {\n",
              "      border-color: transparent;\n",
              "      border-left-color: var(--fill-color);\n",
              "      border-top-color: var(--fill-color);\n",
              "      border-right-color: var(--fill-color);\n",
              "    }\n",
              "    40% {\n",
              "      border-color: transparent;\n",
              "      border-right-color: var(--fill-color);\n",
              "      border-top-color: var(--fill-color);\n",
              "    }\n",
              "    60% {\n",
              "      border-color: transparent;\n",
              "      border-right-color: var(--fill-color);\n",
              "    }\n",
              "    80% {\n",
              "      border-color: transparent;\n",
              "      border-right-color: var(--fill-color);\n",
              "      border-bottom-color: var(--fill-color);\n",
              "    }\n",
              "    90% {\n",
              "      border-color: transparent;\n",
              "      border-bottom-color: var(--fill-color);\n",
              "    }\n",
              "  }\n",
              "</style>\n",
              "\n",
              "  <script>\n",
              "    async function quickchart(key) {\n",
              "      const quickchartButtonEl =\n",
              "        document.querySelector('#' + key + ' button');\n",
              "      quickchartButtonEl.disabled = true;  // To prevent multiple clicks.\n",
              "      quickchartButtonEl.classList.add('colab-df-spinner');\n",
              "      try {\n",
              "        const charts = await google.colab.kernel.invokeFunction(\n",
              "            'suggestCharts', [key], {});\n",
              "      } catch (error) {\n",
              "        console.error('Error during call to suggestCharts:', error);\n",
              "      }\n",
              "      quickchartButtonEl.classList.remove('colab-df-spinner');\n",
              "      quickchartButtonEl.classList.add('colab-df-quickchart-complete');\n",
              "    }\n",
              "    (() => {\n",
              "      let quickchartButtonEl =\n",
              "        document.querySelector('#df-f036e5c7-dc29-4ad4-a7c7-06b820336008 button');\n",
              "      quickchartButtonEl.style.display =\n",
              "        google.colab.kernel.accessAllowed ? 'block' : 'none';\n",
              "    })();\n",
              "  </script>\n",
              "</div>\n",
              "    </div>\n",
              "  </div>\n"
            ]
          },
          "metadata": {},
          "execution_count": 4
        }
      ],
      "source": [
        "#Assuming en is the name of your csv file  (French)\n",
        "french=pd.read_csv('fr.csv')\n",
        "french.head()"
      ]
    },
    {
      "cell_type": "markdown",
      "metadata": {
        "id": "jr8OO1OhwSp4"
      },
      "source": [
        "**How many sentences does each of the files contain?**"
      ]
    },
    {
      "cell_type": "code",
      "execution_count": null,
      "metadata": {
        "colab": {
          "base_uri": "https://localhost:8080/"
        },
        "id": "XhWJP-b02HKq",
        "outputId": "480a23c1-eb4d-4168-8794-d3ebcaec1150"
      },
      "outputs": [
        {
          "output_type": "stream",
          "name": "stdout",
          "text": [
            "English file contains 137859 sentences\n",
            "French file contains 137859 sentences\n"
          ]
        }
      ],
      "source": [
        "print('English file contains',english.shape[0],'sentences')\n",
        "print('French file contains',french.shape[0],'sentences')"
      ]
    },
    {
      "cell_type": "markdown",
      "metadata": {
        "id": "ITGJN5tIwkDO"
      },
      "source": [
        "Now let us concatenate the 2 dataframes into one dataframe that we call **df** where one column has the english senetnces and the other has the french sentences"
      ]
    },
    {
      "cell_type": "code",
      "execution_count": null,
      "metadata": {
        "colab": {
          "base_uri": "https://localhost:8080/"
        },
        "id": "-ZXxahsB2njn",
        "outputId": "368bc01e-a8bb-4e06-ac89-30892873954c"
      },
      "outputs": [
        {
          "output_type": "stream",
          "name": "stdout",
          "text": [
            "Combined dataframe (df) with English and French sentences:\n",
            "  new jersey is sometimes quiet during autumn , and it is snowy in april .  \\\n",
            "0  the united states is usually chilly during jul...                         \n",
            "1  california is usually quiet during march , and...                         \n",
            "2  the united states is sometimes mild during jun...                         \n",
            "3  your least liked fruit is the grape , but my l...                         \n",
            "4  his favorite fruit is the orange , but my favo...                         \n",
            "\n",
            "  new jersey est parfois calme pendant l' automne , et il est neigeux en avril .  \n",
            "0  les états-unis est généralement froid en juill...                              \n",
            "1  california est généralement calme en mars , et...                              \n",
            "2  les états-unis est parfois légère en juin , et...                              \n",
            "3  votre moins aimé fruit est le raisin , mais mo...                              \n",
            "4  son fruit préféré est l'orange , mais mon préf...                              \n"
          ]
        }
      ],
      "source": [
        "# Concatenate the dataframes into one\n",
        "df = pd.concat([english, french], axis=1)\n",
        "\n",
        "# Display the first few rows of the combined dataframe\n",
        "print('Combined dataframe (df) with English and French sentences:')\n",
        "print(df.head())\n"
      ]
    },
    {
      "cell_type": "markdown",
      "metadata": {
        "id": "nAr_caXkwwE7"
      },
      "source": [
        "Let's name the columns as **English** and **French** so that we access them easier."
      ]
    },
    {
      "cell_type": "code",
      "execution_count": null,
      "metadata": {
        "colab": {
          "base_uri": "https://localhost:8080/"
        },
        "id": "eOHiQDXx3jFS",
        "outputId": "2af76ead-dfb3-4290-e869-b64fd6fe3375"
      },
      "outputs": [
        {
          "output_type": "stream",
          "name": "stdout",
          "text": [
            "<class 'pandas.core.frame.DataFrame'>\n",
            "RangeIndex: 137859 entries, 0 to 137858\n",
            "Data columns (total 2 columns):\n",
            " #   Column   Non-Null Count   Dtype \n",
            "---  ------   --------------   ----- \n",
            " 0   English  137859 non-null  object\n",
            " 1   French   137859 non-null  object\n",
            "dtypes: object(2)\n",
            "memory usage: 2.1+ MB\n"
          ]
        }
      ],
      "source": [
        "df.columns = ['English', 'French']\n",
        "df.info()"
      ]
    },
    {
      "cell_type": "markdown",
      "metadata": {
        "id": "4xc1TsEHw9yC"
      },
      "source": [
        "Pick a sentence and print it in both languages"
      ]
    },
    {
      "cell_type": "code",
      "execution_count": null,
      "metadata": {
        "colab": {
          "base_uri": "https://localhost:8080/"
        },
        "id": "QuRVWch23ujo",
        "outputId": "d6eadd6a-ef9d-463f-e0d5-432fcd680fd3"
      },
      "outputs": [
        {
          "output_type": "stream",
          "name": "stdout",
          "text": [
            "English Sentence: she dislikes grapes , strawberries , and pears .\n",
            "French Sentence: elle déteste les raisins , les fraises et les poires .\n"
          ]
        }
      ],
      "source": [
        "# Get the English and French sentences at the random index\n",
        "english_sentence = df.loc[10000, 'English']\n",
        "french_sentence = df.loc[10000, 'French']\n",
        "\n",
        "# Print the sentences\n",
        "print(\"English Sentence:\", english_sentence)\n",
        "print(\"French Sentence:\", french_sentence)\n"
      ]
    },
    {
      "cell_type": "markdown",
      "metadata": {
        "id": "FQjXYP1txFCi"
      },
      "source": [
        "##Cleaning Data"
      ]
    },
    {
      "cell_type": "markdown",
      "metadata": {
        "id": "xgz6jIoVxHUF"
      },
      "source": [
        "The data that we have is almost clean as we can see, we just need to remove the punctuations inside of it."
      ]
    },
    {
      "cell_type": "code",
      "execution_count": null,
      "metadata": {
        "id": "6YYOt5QftcFI"
      },
      "outputs": [],
      "source": [
        "import re\n",
        "# Function to remove punctuation from a sentence\n",
        "def remove_punctuation(text):\n",
        "    # Use regular expression to remove all punctuation\n",
        "    return re.sub(r'[^\\w\\s]', '', text)\n",
        "\n",
        "# Apply the remove_punctuation function to both columns\n",
        "df['English'] = df['English'].apply(remove_punctuation)\n",
        "df['French'] = df['French'].apply(remove_punctuation)\n",
        "\n"
      ]
    },
    {
      "cell_type": "markdown",
      "metadata": {
        "id": "0C1qsC9LxZPb"
      },
      "source": [
        "Make sure that the punctuation is removed by printing the example that you printed earlier."
      ]
    },
    {
      "cell_type": "code",
      "execution_count": null,
      "metadata": {
        "colab": {
          "base_uri": "https://localhost:8080/"
        },
        "id": "T80tiWxe84G7",
        "outputId": "1c41cddd-8414-4dd1-ad8d-a860c50dc08a"
      },
      "outputs": [
        {
          "output_type": "stream",
          "name": "stdout",
          "text": [
            "English Sentence selected previously after cleaning: she dislikes grapes  strawberries  and pears \n",
            "French Sentence selected previously after cleaning elle déteste les raisins  les fraises et les poires \n"
          ]
        }
      ],
      "source": [
        "english_sentence_without_punctuation = df.loc[10000, 'English']\n",
        "french_sentence_without_punctuation = df.loc[10000, 'French']\n",
        "print(\"English Sentence selected previously after cleaning:\", english_sentence_without_punctuation)\n",
        "print(\"French Sentence selected previously after cleaning\", french_sentence_without_punctuation)\n"
      ]
    },
    {
      "cell_type": "markdown",
      "metadata": {
        "id": "ZuFNjoBAx4oN"
      },
      "source": [
        "##Exploring the Data"
      ]
    },
    {
      "cell_type": "markdown",
      "metadata": {
        "id": "ATfefzPExi2k"
      },
      "source": [
        "Add a column **ENG Length** to the dataset that shows how many words does a sentence contain, and do the same for french in a column called **FR Length**"
      ]
    },
    {
      "cell_type": "code",
      "execution_count": null,
      "metadata": {
        "id": "Dakeo81s352S"
      },
      "outputs": [],
      "source": [
        "# Function to count words\n",
        "def process_text(text):\n",
        "    # Split the text into words and count them\n",
        "    words = text.split()\n",
        "    return len(words)"
      ]
    },
    {
      "cell_type": "code",
      "execution_count": null,
      "metadata": {
        "id": "49keasjaPaaK"
      },
      "outputs": [],
      "source": [
        "# Apply the process_text function to both columns to calculate word counts\n",
        "df['ENG Length'] = df['English'].apply(process_text)\n",
        "df['FR Length'] = df['French'].apply(process_text)"
      ]
    },
    {
      "cell_type": "markdown",
      "metadata": {
        "id": "AjQLW0K5xwx1"
      },
      "source": [
        "Visualize the distribution of the lengths of english sentences and french sentences."
      ]
    },
    {
      "cell_type": "code",
      "execution_count": null,
      "metadata": {
        "colab": {
          "base_uri": "https://localhost:8080/",
          "height": 490
        },
        "id": "_q_UIMJ09L24",
        "outputId": "dea43229-3f8e-4e4f-cb87-3681dc2abc5b"
      },
      "outputs": [
        {
          "output_type": "execute_result",
          "data": {
            "text/plain": [
              "Text(0, 0.5, 'Frequency')"
            ]
          },
          "metadata": {},
          "execution_count": 18
        },
        {
          "output_type": "display_data",
          "data": {
            "text/plain": [
              "<Figure size 640x480 with 1 Axes>"
            ],
            "image/png": "[encoded data removed]"
          },
          "metadata": {}
        }
      ],
      "source": [
        "import seaborn as sns\n",
        "import matplotlib.pyplot as plt\n",
        "plt.subplot(1, 2, 1)\n",
        "sns.histplot(df['ENG Length'], bins=20, kde=True, color='blue')\n",
        "plt.title('English Sentence Length Distribution')\n",
        "plt.xlabel('Number of Words')\n",
        "plt.ylabel('Frequency')"
      ]
    },
    {
      "cell_type": "code",
      "execution_count": null,
      "metadata": {
        "colab": {
          "base_uri": "https://localhost:8080/",
          "height": 490
        },
        "id": "TSn4L7kW9R7g",
        "outputId": "1489d1a2-b191-4b74-c31c-c53119a6e07d"
      },
      "outputs": [
        {
          "output_type": "execute_result",
          "data": {
            "text/plain": [
              "Text(0, 0.5, 'Frequency')"
            ]
          },
          "metadata": {},
          "execution_count": 19
        },
        {
          "output_type": "display_data",
          "data": {
            "text/plain": [
              "<Figure size 640x480 with 1 Axes>"
            ],
            "image/png": "[encoded data removed]"
          },
          "metadata": {}
        }
      ],
      "source": [
        "plt.subplot(1, 2, 2)\n",
        "sns.histplot(df['FR Length'], bins=20, kde=True, color='green')\n",
        "plt.title('French Sentence Length Distribution')\n",
        "plt.xlabel('Number of Words')\n",
        "plt.ylabel('Frequency')"
      ]
    },
    {
      "cell_type": "markdown",
      "metadata": {
        "id": "BDXb2d9ix9DV"
      },
      "source": [
        "Get the maximum length of an english sentence and the maximum length of a french sentence."
      ]
    },
    {
      "cell_type": "code",
      "execution_count": null,
      "metadata": {
        "colab": {
          "base_uri": "https://localhost:8080/"
        },
        "id": "BpnBB04U_lHd",
        "outputId": "99bd45cf-c196-4d3a-bd50-e5c91f4fa396"
      },
      "outputs": [
        {
          "output_type": "stream",
          "name": "stdout",
          "text": [
            "Maximum Length of an English Sentence: 15\n",
            "Maximum Length of a French Sentence: 21\n"
          ]
        }
      ],
      "source": [
        "# Find the maximum length of an English sentence\n",
        "max_eng_length = df['ENG Length'].max()\n",
        "\n",
        "# Find the maximum length of a French sentence\n",
        "max_fr_length = df['FR Length'].max()\n",
        "\n",
        "print('Maximum Length of an English Sentence:', max_eng_length)\n",
        "print('Maximum Length of a French Sentence:', max_fr_length)\n"
      ]
    },
    {
      "cell_type": "markdown",
      "metadata": {
        "id": "s4s-spsRyGJv"
      },
      "source": [
        "##Preprocessing the Data"
      ]
    },
    {
      "cell_type": "markdown",
      "metadata": {
        "id": "N0ZmIT2GyJMU"
      },
      "source": [
        "In order for the data to be fed to the model, it has to be tokenized and padded."
      ]
    },
    {
      "cell_type": "markdown",
      "metadata": {
        "id": "R0r9z-eErm9H"
      },
      "source": [
        "####Tokenization"
      ]
    },
    {
      "cell_type": "markdown",
      "metadata": {
        "id": "814mKDFiymcY"
      },
      "source": [
        "Tokenize the sentences that we have."
      ]
    },
    {
      "cell_type": "code",
      "execution_count": null,
      "metadata": {
        "colab": {
          "base_uri": "https://localhost:8080/"
        },
        "id": "aiXlciqFuQzW",
        "outputId": "45095abc-701e-4d8a-ff33-620e2d85cabb"
      },
      "outputs": [
        {
          "output_type": "stream",
          "name": "stderr",
          "text": [
            "[nltk_data] Downloading package punkt to /root/nltk_data...\n",
            "[nltk_data]   Unzipping tokenizers/punkt.zip.\n"
          ]
        },
        {
          "output_type": "stream",
          "name": "stdout",
          "text": [
            "Dataframe (df) with tokenized words:\n",
            "                                      English Tokens  \\\n",
            "0  [the, united, states, is, usually, chilly, dur...   \n",
            "1  [california, is, usually, quiet, during, march...   \n",
            "2  [the, united, states, is, sometimes, mild, dur...   \n",
            "3  [your, least, liked, fruit, is, the, grape, bu...   \n",
            "4  [his, favorite, fruit, is, the, orange, but, m...   \n",
            "\n",
            "                                       French Tokens  \n",
            "0  [les, étatsunis, est, généralement, froid, en,...  \n",
            "1  [california, est, généralement, calme, en, mar...  \n",
            "2  [les, étatsunis, est, parfois, légère, en, jui...  \n",
            "3  [votre, moins, aimé, fruit, est, le, raisin, m...  \n",
            "4  [son, fruit, préféré, est, lorange, mais, mon,...  \n"
          ]
        }
      ],
      "source": [
        "import nltk\n",
        "# download Punkt Sentence Tokenizer\n",
        "nltk.download('punkt')\n",
        "# Initialize the English tokenizer\n",
        "english_tokenizer = nltk.word_tokenize\n",
        "\n",
        "# Initialize the French tokenizer\n",
        "french_tokenizer = nltk.word_tokenize  # You can use the same tokenizer for both languages\n",
        "\n",
        "# Tokenize the words in the 'English Sentence' column\n",
        "df['English Tokens'] = df['English'].apply(english_tokenizer)\n",
        "\n",
        "# Tokenize the words in the 'French Sentence' column\n",
        "df['French Tokens'] = df['French'].apply(french_tokenizer)\n",
        "\n",
        "\n",
        "# Display the first few rows of the dataframe with tokenized words\n",
        "print('Dataframe (df) with tokenized words:')\n",
        "print(df[['English Tokens', 'French Tokens']].head())"
      ]
    },
    {
      "cell_type": "markdown",
      "metadata": {
        "id": "aUN01jDXys9B"
      },
      "source": [
        "**How many unique words do we have in english and in french?**"
      ]
    },
    {
      "cell_type": "code",
      "execution_count": null,
      "metadata": {
        "colab": {
          "base_uri": "https://localhost:8080/"
        },
        "id": "1WahkdzKvIlO",
        "outputId": "b7d22305-c958-41e5-843c-e3523e458b31"
      },
      "outputs": [
        {
          "output_type": "stream",
          "name": "stdout",
          "text": [
            "Number of Unique English Words: 199\n",
            "Number of Unique French Words: 345\n"
          ]
        }
      ],
      "source": [
        "# Collect all English tokens from the dataframe\n",
        "english_tokens = df['English Tokens'].explode().tolist()\n",
        "\n",
        "# Collect all French tokens from the dataframe\n",
        "french_tokens = df['French Tokens'].explode().tolist()\n",
        "\n",
        "# Calculate the number of unique words in English\n",
        "unique_english_words = len(set(english_tokens))\n",
        "\n",
        "# Calculate the number of unique words in French\n",
        "unique_french_words = len(set(french_tokens))\n",
        "\n",
        "print('Number of Unique English Words:', unique_english_words)\n",
        "print('Number of Unique French Words:', unique_french_words)"
      ]
    },
    {
      "cell_type": "markdown",
      "metadata": {
        "id": "g0C2RJjArtJd"
      },
      "source": [
        "####Padding"
      ]
    },
    {
      "cell_type": "markdown",
      "metadata": {
        "id": "hRXayRzVzQD4"
      },
      "source": [
        "Perform padding on the sequences that we have."
      ]
    },
    {
      "cell_type": "code",
      "execution_count": null,
      "metadata": {
        "id": "oNdO9EZrxvmN",
        "colab": {
          "base_uri": "https://localhost:8080/"
        },
        "outputId": "f78c0463-c088-441b-853b-14094f202c1a"
      },
      "outputs": [
        {
          "output_type": "stream",
          "name": "stdout",
          "text": [
            "Dataframe (df) with padded sequences:\n",
            "                                      English Tokens  \\\n",
            "0  [5, 20, 21, 1, 9, 62, 4, 43, 7, 3, 1, 9, 51, 2...   \n",
            "1  [22, 1, 9, 67, 4, 38, 7, 3, 1, 9, 68, 2, 34, 0...   \n",
            "2  [5, 20, 21, 1, 8, 64, 4, 34, 7, 3, 1, 57, 2, 4...   \n",
            "3  [29, 12, 16, 13, 1, 5, 82, 6, 30, 12, 16, 1, 5...   \n",
            "4  [31, 11, 13, 1, 5, 84, 6, 30, 11, 1, 5, 82, 0,...   \n",
            "\n",
            "                                       French Tokens  \n",
            "0  [4, 31, 1, 12, 19, 2, 48, 6, 3, 94, 68, 2, 50,...  \n",
            "1  [100, 1, 12, 66, 2, 44, 6, 3, 1, 12, 21, 2, 40...  \n",
            "2  [4, 31, 1, 8, 268, 2, 40, 6, 3, 102, 19, 2, 47...  \n",
            "3  [39, 13, 14, 16, 1, 10, 81, 5, 38, 13, 14, 1, ...  \n",
            "4  [20, 16, 17, 1, 83, 5, 38, 17, 1, 10, 81, 0, 0...  \n"
          ]
        }
      ],
      "source": [
        "from keras.preprocessing.text import Tokenizer\n",
        "from keras.preprocessing.sequence import pad_sequences\n",
        "\n",
        "# Initialize Tokenizers\n",
        "tokenizer_en = Tokenizer()\n",
        "tokenizer_fr = Tokenizer()\n",
        "\n",
        "# Fit Tokenizers on your English and French sentences\n",
        "tokenizer_en.fit_on_texts(df['English Tokens'])\n",
        "tokenizer_fr.fit_on_texts(df['French Tokens'])\n",
        "\n",
        "# Convert text to sequences\n",
        "sequences_en = tokenizer_en.texts_to_sequences(df['English Tokens'])\n",
        "sequences_fr = tokenizer_fr.texts_to_sequences(df['French Tokens'])\n",
        "# Determine the maximum sequence length\n",
        "max_seq_length_en = max(len(seq) for seq in sequences_en)\n",
        "max_seq_length_fr = max(len(seq) for seq in sequences_fr)\n",
        "\n",
        "# Pad sequences to a fixed length (use the previously determined max_seq_length_en and max_seq_length_fr)\n",
        "padded_sequences_en = pad_sequences(sequences_en, maxlen=max_seq_length_en, padding='post', truncating='post')\n",
        "padded_sequences_fr = pad_sequences(sequences_fr, maxlen=max_seq_length_fr, padding='post', truncating='post')\n",
        "\n",
        "# Replace the original columns with padded sequences\n",
        "df['English Tokens'] = list(padded_sequences_en)\n",
        "df['French Tokens'] = list(padded_sequences_fr)\n",
        "\n",
        "# Display the first few rows of the dataframe with padded sequences\n",
        "print('Dataframe (df) with padded sequences:')\n",
        "print(df[['English Tokens', 'French Tokens']].head())\n"
      ]
    },
    {
      "cell_type": "code",
      "execution_count": null,
      "metadata": {
        "colab": {
          "base_uri": "https://localhost:8080/"
        },
        "id": "53lYD-fsmJDq",
        "outputId": "6670d8af-8b48-459b-eda2-1dfd791e5944"
      },
      "outputs": [
        {
          "output_type": "stream",
          "name": "stdout",
          "text": [
            "Padded English Sequence:\n",
            "[27 69 73 79  7 78  0  0  0  0  0  0  0  0  0]\n",
            "Padded French Sequence:\n",
            "[27 93  4 76  4 73  6  4 72  0  0  0  0  0  0  0  0  0  0  0  0]\n",
            "Index of Maximum Length English Sentence: 0\n",
            "Index of Maximum Length French Sentence: 94613\n",
            "[ 5 20 21  1  9 62  4 43  7  3  1  9 51  2 45]\n",
            "[ 34  33 104 102   9  19  15 110  22  11  24   6   3   1   9 225  22 226\n",
            "  26  11  24]\n"
          ]
        }
      ],
      "source": [
        "# Print padded sequences for a few examples\n",
        "#sentence used before\n",
        "print(\"Padded English Sequence:\")\n",
        "print(padded_sequences_en[10000])\n",
        "\n",
        "print(\"Padded French Sequence:\")\n",
        "print(padded_sequences_fr[10000])\n",
        "\n",
        "# Find the index of the maximum length for English sentences\n",
        "max_eng_length = df['ENG Length'].max()\n",
        "index_of_max_eng_length = df[df['ENG Length'] == max_eng_length].index[0]\n",
        "\n",
        "# Find the index of the maximum length for French sentences\n",
        "max_fr_length = df['FR Length'].max()\n",
        "index_of_max_fr_length = df[df['FR Length'] == max_fr_length].index[0]\n",
        "\n",
        "print('Index of Maximum Length English Sentence:', index_of_max_eng_length)\n",
        "print('Index of Maximum Length French Sentence:', index_of_max_fr_length)\n",
        "print(padded_sequences_en[index_of_max_eng_length])\n",
        "print(padded_sequences_fr[index_of_max_fr_length])\n",
        "\n",
        "\n"
      ]
    },
    {
      "cell_type": "markdown",
      "metadata": {
        "id": "JxvvVU3ezUHR"
      },
      "source": [
        "##Modeling"
      ]
    },
    {
      "cell_type": "markdown",
      "metadata": {
        "id": "FEKujJUEzVux"
      },
      "source": [
        "After preprrocessing the data, we can build our model. Start by building a baseline architecture relying on one directional RNNs, LSTMs, or GRUs. It will be good to lookup how to build Seq2Seq models, there are some new layers that will help you like RepeatVector and TimeDistributed."
      ]
    },
    {
      "cell_type": "code",
      "execution_count": null,
      "metadata": {
        "id": "9oydzHkr3zDC",
        "colab": {
          "base_uri": "https://localhost:8080/"
        },
        "outputId": "09ed18b1-dc79-4265-89de-cddf4f0c62ac"
      },
      "outputs": [
        {
          "output_type": "stream",
          "name": "stdout",
          "text": [
            "Model: \"sequential\"\n",
            "_________________________________________________________________\n",
            " Layer (type)                Output Shape              Param #   \n",
            "=================================================================\n",
            " embedding (Embedding)       (None, 15, 300)           60000     \n",
            "                                                                 \n",
            " lstm (LSTM)                 (None, 128)               219648    \n",
            "                                                                 \n",
            " repeat_vector (RepeatVecto  (None, 21, 128)           0         \n",
            " r)                                                              \n",
            "                                                                 \n",
            " lstm_1 (LSTM)               (None, 21, 128)           131584    \n",
            "                                                                 \n",
            " time_distributed (TimeDist  (None, 21, 345)           44505     \n",
            " ributed)                                                        \n",
            "                                                                 \n",
            "=================================================================\n",
            "Total params: 455737 (1.74 MB)\n",
            "Trainable params: 455737 (1.74 MB)\n",
            "Non-trainable params: 0 (0.00 Byte)\n",
            "_________________________________________________________________\n"
          ]
        }
      ],
      "source": [
        "import numpy as np\n",
        "from keras.models import Sequential\n",
        "from keras.layers import Embedding, LSTM, RepeatVector, TimeDistributed, Dense\n",
        "\n",
        "vocab_size_en = len(tokenizer_en.word_index) + 1  # Add 1 for the padding token\n",
        "vocab_size_fr = len(tokenizer_fr.word_index) + 1  # Add 1 for the padding token\n",
        "embedding_dim = 300\n",
        "\n",
        "\n",
        "# Define the input sequence length (max_seq_length_en) and output sequence length (max_seq_length_fr)\n",
        "input_sequence_length = max_seq_length_en\n",
        "output_sequence_length = max_seq_length_fr\n",
        "\n",
        "# Create the Seq2Seq model\n",
        "model = Sequential()\n",
        "\n",
        "# Encoder\n",
        "model.add(Embedding(input_dim=vocab_size_en, output_dim=embedding_dim, input_length=input_sequence_length))\n",
        "model.add(LSTM(128))\n",
        "\n",
        "# Decoder\n",
        "model.add(RepeatVector(output_sequence_length))\n",
        "model.add(LSTM(128, return_sequences=True))\n",
        "model.add(TimeDistributed(Dense(vocab_size_fr, activation='softmax')))\n",
        "\n",
        "\n",
        "# Display the model summary\n",
        "model.summary()\n"
      ]
    },
    {
      "cell_type": "markdown",
      "metadata": {
        "id": "aP10HtNBzpT0"
      },
      "source": [
        "Compile and train the model.\n",
        "**FYI:** While specifying the architecture of your model and the number of epochs for training, keeep in your mind that your model might take A LOT of time to train."
      ]
    },
    {
      "cell_type": "code",
      "execution_count": null,
      "metadata": {
        "id": "JTw52TnK2VNm",
        "colab": {
          "base_uri": "https://localhost:8080/"
        },
        "outputId": "a9e3c881-f52f-4ae1-8c9f-b26466b1e337"
      },
      "outputs": [
        {
          "output_type": "stream",
          "name": "stdout",
          "text": [
            "Epoch 1/5\n",
            "1508/1508 [==============================] - 209s 136ms/step - loss: 1.7612 - accuracy: 0.5797 - val_loss: 1.1790 - val_accuracy: 0.6756\n",
            "Epoch 2/5\n",
            "1508/1508 [==============================] - 186s 123ms/step - loss: 0.9243 - accuracy: 0.7360 - val_loss: 0.7485 - val_accuracy: 0.7788\n",
            "Epoch 3/5\n",
            "1508/1508 [==============================] - 186s 123ms/step - loss: 0.6266 - accuracy: 0.8123 - val_loss: 0.5182 - val_accuracy: 0.8427\n",
            "Epoch 4/5\n",
            "1508/1508 [==============================] - 186s 123ms/step - loss: 0.4329 - accuracy: 0.8707 - val_loss: 0.3561 - val_accuracy: 0.8958\n",
            "Epoch 5/5\n",
            "1508/1508 [==============================] - 206s 137ms/step - loss: 0.2863 - accuracy: 0.9225 - val_loss: 0.2567 - val_accuracy: 0.9332\n"
          ]
        }
      ],
      "source": [
        "from sklearn.model_selection import train_test_split\n",
        "from keras.utils import to_categorical\n",
        "\n",
        "# Split your data into training and testing sets\n",
        "x_train, x_test, y_train, y_test = train_test_split(padded_sequences_en,padded_sequences_fr, test_size=0.3, random_state=42)\n",
        "\n",
        "# One-hot encode the target labels\n",
        "y_train_one_hot = to_categorical(y_train, num_classes=vocab_size_fr)\n",
        "y_test_one_hot = to_categorical(y_test, num_classes=vocab_size_fr)\n",
        "\n",
        "# Compile the model\n",
        "model.compile(optimizer='adam', loss='categorical_crossentropy', metrics=['accuracy'])\n",
        "\n",
        "# Define the number of epochs for training\n",
        "num_epochs = 5\n",
        "\n",
        "# Train the model\n",
        "history = model.fit(x_train,y_train_one_hot, batch_size=64, epochs=num_epochs, validation_data=(x_test, y_test_one_hot))\n"
      ]
    },
    {
      "cell_type": "markdown",
      "metadata": {
        "id": "9UoEcxyJztiQ"
      },
      "source": [
        " Define a function that gets an input sentence in english and gives the output sentence in the french language."
      ]
    },
    {
      "cell_type": "code",
      "execution_count": null,
      "metadata": {
        "id": "9cDwHSoCqlpC"
      },
      "outputs": [],
      "source": [
        "\n",
        "def translate_sentence(input_sentence, model, tokenizer_en, max_seq_length_en, tokenizer_fr, max_seq_length_fr):\n",
        "    # Tokenize the input sentence\n",
        "    input_tokens = tokenizer_en.texts_to_sequences([input_sentence])[0]\n",
        "\n",
        "    # Pad the tokenized input sequence\n",
        "    padded_input = pad_sequences([input_tokens], maxlen=max_seq_length_en, padding='post',truncating='post')\n",
        "\n",
        "    # Predict the output sequence using the model\n",
        "    predicted_output = model.predict(np.array(padded_input))\n",
        "\n",
        "    # Decode the predicted output sequence into a French sentence\n",
        "    output_sentence = decode_output_sequence(predicted_output, tokenizer_fr)\n",
        "\n",
        "    return output_sentence\n",
        "\n",
        "def decode_output_sequence(output_sequence, tokenizer):\n",
        "    # Get the index of the highest probability word at each position\n",
        "    output_sequence = np.argmax(output_sequence, axis=-1)\n",
        "\n",
        "    # Convert indices to words using the tokenizer\n",
        "    output_sentence = tokenizer.sequences_to_texts(output_sequence)[0]\n",
        "\n",
        "    return output_sentence\n"
      ]
    },
    {
      "cell_type": "markdown",
      "metadata": {
        "id": "XUQIcAjWz3bt"
      },
      "source": [
        "Test the following sentence"
      ]
    },
    {
      "cell_type": "code",
      "execution_count": null,
      "metadata": {
        "id": "fDmNqnZIQMko",
        "colab": {
          "base_uri": "https://localhost:8080/"
        },
        "outputId": "a8eec198-9d25-4867-8186-fca667c89f25"
      },
      "outputs": [
        {
          "output_type": "stream",
          "name": "stdout",
          "text": [
            "1/1 [==============================] - 4s 4s/step\n",
            "Input Sentence (English): she is driving the truck\n",
            "Translated Sentence (French): elle conduit le camion bleu rouillé\n"
          ]
        }
      ],
      "source": [
        "input = \"she is driving the truck\"\n",
        "translated_sentence = translate_sentence(input, model, tokenizer_en, max_seq_length_en, tokenizer_fr, max_seq_length_fr)\n",
        "print(\"Input Sentence (English):\", input)\n",
        "print(\"Translated Sentence (French):\", translated_sentence)\n",
        "\n",
        "#Test Your Zaka"
      ]
    },
    {
      "cell_type": "code",
      "source": [
        "model.save(\"model.h5\")"
      ],
      "metadata": {
        "id": "vTIqRVOrGydY"
      },
      "execution_count": null,
      "outputs": []
    },
    {
      "cell_type": "markdown",
      "metadata": {
        "id": "wdI2XhaBz6CN"
      },
      "source": [
        "Try to improve your model by modifying the architecture to take into account bidirectionality which is very useful in Machine Translation. Create a new model called model2"
      ]
    },
    {
      "cell_type": "code",
      "execution_count": null,
      "metadata": {
        "id": "Ch28BLsbGnCn",
        "colab": {
          "base_uri": "https://localhost:8080/"
        },
        "outputId": "fd511c0c-d0a9-4280-c374-bb3e7a33356d"
      },
      "outputs": [
        {
          "output_type": "stream",
          "name": "stdout",
          "text": [
            "Model: \"sequential_2\"\n",
            "_________________________________________________________________\n",
            " Layer (type)                Output Shape              Param #   \n",
            "=================================================================\n",
            " embedding_1 (Embedding)     (None, 15, 300)           60000     \n",
            "                                                                 \n",
            " bidirectional (Bidirection  (None, 256)               330240    \n",
            " al)                                                             \n",
            "                                                                 \n",
            " repeat_vector_1 (RepeatVec  (None, 21, 256)           0         \n",
            " tor)                                                            \n",
            "                                                                 \n",
            " bidirectional_1 (Bidirecti  (None, 21, 256)           296448    \n",
            " onal)                                                           \n",
            "                                                                 \n",
            " time_distributed_1 (TimeDi  (None, 21, 345)           88665     \n",
            " stributed)                                                      \n",
            "                                                                 \n",
            "=================================================================\n",
            "Total params: 775353 (2.96 MB)\n",
            "Trainable params: 775353 (2.96 MB)\n",
            "Non-trainable params: 0 (0.00 Byte)\n",
            "_________________________________________________________________\n"
          ]
        }
      ],
      "source": [
        "from keras.layers import Bidirectional, GRU\n",
        "from keras.models import Sequential\n",
        "from keras.layers import Embedding, LSTM, RepeatVector, TimeDistributed, Dense\n",
        "# Create a new Seq2Seq model with bidirectional GRU layers\n",
        "model2 = Sequential()\n",
        "\n",
        "# Encoder (Bidirectional GRU)\n",
        "model2.add(Embedding(input_dim=vocab_size_en, output_dim=embedding_dim, input_length=max_seq_length_en))\n",
        "model2.add(Bidirectional(GRU(128)))\n",
        "\n",
        "# Decoder\n",
        "model2.add(RepeatVector(max_seq_length_fr))\n",
        "model2.add(Bidirectional(GRU(128, return_sequences=True)))\n",
        "model2.add(TimeDistributed(Dense(vocab_size_fr, activation='softmax')))\n",
        "\n",
        "\n",
        "# Display the model summary\n",
        "model2.summary()\n"
      ]
    },
    {
      "cell_type": "markdown",
      "metadata": {
        "id": "EHDvxt9L0C21"
      },
      "source": [
        "compile and train your new model."
      ]
    },
    {
      "cell_type": "code",
      "execution_count": null,
      "metadata": {
        "id": "iK1QvVmaTWI2",
        "colab": {
          "base_uri": "https://localhost:8080/"
        },
        "outputId": "c85dd0a9-bb4b-49b0-aa18-d73f0e6ddc7f"
      },
      "outputs": [
        {
          "output_type": "stream",
          "name": "stdout",
          "text": [
            "Epoch 1/5\n",
            "1508/1508 [==============================] - 359s 233ms/step - loss: 1.2357 - accuracy: 0.6824 - val_loss: 0.7963 - val_accuracy: 0.7698\n",
            "Epoch 2/5\n",
            "1508/1508 [==============================] - 343s 228ms/step - loss: 0.5313 - accuracy: 0.8436 - val_loss: 0.3611 - val_accuracy: 0.8943\n",
            "Epoch 3/5\n",
            "1508/1508 [==============================] - 343s 228ms/step - loss: 0.2773 - accuracy: 0.9202 - val_loss: 0.2187 - val_accuracy: 0.9376\n",
            "Epoch 4/5\n",
            "1508/1508 [==============================] - 339s 225ms/step - loss: 0.1836 - accuracy: 0.9470 - val_loss: 0.1551 - val_accuracy: 0.9554\n",
            "Epoch 5/5\n",
            "1508/1508 [==============================] - 340s 225ms/step - loss: 0.1417 - accuracy: 0.9582 - val_loss: 0.1359 - val_accuracy: 0.9593\n"
          ]
        }
      ],
      "source": [
        "# Compile the model\n",
        "model2.compile(optimizer='adam', loss='categorical_crossentropy', metrics=['accuracy'])\n",
        "\n",
        "# Define the number of epochs for training\n",
        "num_epochs = 5\n",
        "\n",
        "# Train the model\n",
        "history = model2.fit(x_train,y_train_one_hot, batch_size=64, epochs=num_epochs, validation_data=(x_test, y_test_one_hot))\n"
      ]
    },
    {
      "cell_type": "code",
      "execution_count": null,
      "metadata": {
        "id": "8CO0pO6-UAeE"
      },
      "outputs": [],
      "source": [
        "input = \"she is driving the truck\"\n",
        "predicted_translation = translate_sentence_with_model2(input, model2, tokenizer_en, max_seq_length_en, tokenizer_fr, max_seq_length_fr)\n",
        "print(\"Input Sentence (English):\", input)\n",
        "print(\"Predicted Translation (French):\", predicted_translation)\n"
      ]
    }
  ],
  "metadata": {
    "colab": {
      "provenance": []
    },
    "kernelspec": {
      "display_name": "Python 3",
      "name": "python3"
    },
    "language_info": {
      "name": "python"
    }
  },
  "nbformat": 4,
  "nbformat_minor": 0
}